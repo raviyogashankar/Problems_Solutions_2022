{
 "cells": [
  {
   "cell_type": "markdown",
   "id": "2ac1a0f7",
   "metadata": {},
   "source": [
    "1. In the below elements which of them are values or an expression? eg:- values can be integer or string and expressions will be mathematical operators.\n",
    "* \n",
    "'hello'\n",
    "-87.8\n",
    "- \n",
    "/ \n",
    "+\t\n",
    "6 "
   ]
  },
  {
   "cell_type": "code",
   "execution_count": 1,
   "id": "9f011824",
   "metadata": {},
   "outputs": [],
   "source": [
    "\"\"\"From the above example \n",
    "hello - Value\n",
    "87.8 - Value\n",
    "/ - expression\n",
    "6 - Value\n",
    "\"\"\" "
   ]
  },
  {
   "cell_type": "markdown",
   "id": "aeba8632",
   "metadata": {},
   "source": [
    "2. What is the difference between string and variable?"
   ]
  },
  {
   "cell_type": "code",
   "execution_count": 2,
   "id": "69b56ca3",
   "metadata": {},
   "outputs": [
    {
     "data": {
      "text/plain": [
       "'STRINGS - series of characters/words'"
      ]
     },
     "execution_count": 2,
     "metadata": {},
     "output_type": "execute_result"
    }
   ],
   "source": [
    "\"STRINGS - series of characters/words\"# Hello - is a string\n",
    "\"Variable - Used to assign the values\"# a = \"Hello\" a is a variable"
   ]
  },
  {
   "cell_type": "markdown",
   "id": "cb1aab3f",
   "metadata": {},
   "source": [
    "3. Describe three different data types."
   ]
  },
  {
   "cell_type": "code",
   "execution_count": 5,
   "id": "48156ad3",
   "metadata": {},
   "outputs": [
    {
     "name": "stdout",
     "output_type": "stream",
     "text": [
      "Hello World\n",
      "True\n",
      "['Data Analyst', 'Data Scientist', 'Data Engineer']\n"
     ]
    }
   ],
   "source": [
    "a = \"Hello World\" # STRING\n",
    "b = True  # Bool\n",
    "c = ['Data Analyst','Data Scientist', 'Data Engineer']\n",
    "print(a)\n",
    "print(b)\n",
    "print(c)"
   ]
  },
  {
   "cell_type": "markdown",
   "id": "ee67b30a",
   "metadata": {},
   "source": [
    "4. What is an expression made up of? What do all expressions do?"
   ]
  },
  {
   "cell_type": "code",
   "execution_count": 6,
   "id": "fe54bba4",
   "metadata": {},
   "outputs": [
    {
     "data": {
      "text/plain": [
       "\"Expressions are nothing but the operators that are user to perform some calculation to get desired output's.\""
      ]
     },
     "execution_count": 6,
     "metadata": {},
     "output_type": "execute_result"
    }
   ],
   "source": [
    "\"\"\"Expressions are nothing but the operators that are user to perform some calculation to get desired output's.\"\"\""
   ]
  },
  {
   "cell_type": "markdown",
   "id": "039f7f1b",
   "metadata": {},
   "source": [
    "5. This assignment statements, like spam = 10. What is the difference between an expression and a statement?"
   ]
  },
  {
   "cell_type": "code",
   "execution_count": 8,
   "id": "7266fd0c",
   "metadata": {},
   "outputs": [
    {
     "data": {
      "text/plain": [
       "'Statement is executable form of code that is used by python to execute by interpreter '"
      ]
     },
     "execution_count": 8,
     "metadata": {},
     "output_type": "execute_result"
    }
   ],
   "source": [
    "\"\"\"\"Expressions are nothing but the operators that are user to perform some calculation to get desired output's.\"\n",
    "\"\"\"\n",
    "\"\"\"Statement is executable form of code that is used by python to execute by interpreter \"\"\""
   ]
  },
  {
   "cell_type": "markdown",
   "id": "30e66ae4",
   "metadata": {},
   "source": [
    "6. After running the following code, what does the variable bacon contain?\n",
    "bacon = 22\n",
    "bacon + 1"
   ]
  },
  {
   "cell_type": "code",
   "execution_count": 9,
   "id": "1c623ce0",
   "metadata": {},
   "outputs": [
    {
     "data": {
      "text/plain": [
       "23"
      ]
     },
     "execution_count": 9,
     "metadata": {},
     "output_type": "execute_result"
    }
   ],
   "source": [
    "bacon = 22 #\n",
    "bacon + 1"
   ]
  },
  {
   "cell_type": "code",
   "execution_count": 11,
   "id": "82b93f0e",
   "metadata": {},
   "outputs": [
    {
     "data": {
      "text/plain": [
       "22"
      ]
     },
     "execution_count": 11,
     "metadata": {},
     "output_type": "execute_result"
    }
   ],
   "source": [
    "bacon #bacon contains the assigned value the original values remains same"
   ]
  },
  {
   "cell_type": "markdown",
   "id": "2930f34c",
   "metadata": {},
   "source": [
    "7. What should the values of the following two terms be?\n",
    "'spam' + 'spamspam'\n",
    "'spam' * 3"
   ]
  },
  {
   "cell_type": "code",
   "execution_count": 12,
   "id": "0fbb9ec7",
   "metadata": {},
   "outputs": [
    {
     "data": {
      "text/plain": [
       "'spamspamspam'"
      ]
     },
     "execution_count": 12,
     "metadata": {},
     "output_type": "execute_result"
    }
   ],
   "source": [
    "'spam' + 'spamspam'# String concatination"
   ]
  },
  {
   "cell_type": "code",
   "execution_count": 14,
   "id": "f173eb87",
   "metadata": {},
   "outputs": [
    {
     "data": {
      "text/plain": [
       "'spamspamspam'"
      ]
     },
     "execution_count": 14,
     "metadata": {},
     "output_type": "execute_result"
    }
   ],
   "source": [
    "'spam' * 3 #Both the above the current one are same"
   ]
  },
  {
   "cell_type": "markdown",
   "id": "36c5d281",
   "metadata": {},
   "source": [
    "8. Why is eggs a valid variable name while 100 is invalid?"
   ]
  },
  {
   "cell_type": "code",
   "execution_count": 16,
   "id": "1c4e551b",
   "metadata": {},
   "outputs": [
    {
     "data": {
      "text/plain": [
       "'where as 100 is an integer and assignment is not posssible for the integers data types'"
      ]
     },
     "execution_count": 16,
     "metadata": {},
     "output_type": "execute_result"
    }
   ],
   "source": [
    "\"\"\"egg is a string that can be used to assign any values \"\"\"\n",
    "\"\"\"where as 100 is an integer and assignment is not posssible for the integers data types\"\"\""
   ]
  },
  {
   "cell_type": "markdown",
   "id": "778e29f1",
   "metadata": {},
   "source": [
    "9. What three functions can be used to get the integer, floating-point number, or string version of a value?"
   ]
  },
  {
   "cell_type": "code",
   "execution_count": 23,
   "id": "ddbbb160",
   "metadata": {},
   "outputs": [
    {
     "name": "stdout",
     "output_type": "stream",
     "text": [
      "<class 'int'>\n",
      "<class 'float'>\n",
      "<class 'str'>\n"
     ]
    }
   ],
   "source": [
    "a = int()\n",
    "b = float()\n",
    "c = str()\n",
    "print(type(a))\n",
    "print(type(b))\n",
    "print(type(c))"
   ]
  },
  {
   "cell_type": "markdown",
   "id": "d55818b1",
   "metadata": {},
   "source": [
    "10. Why does this expression cause an error? How can you fix it?\n",
    "'I have eaten ' + 99 + ' burritos.'"
   ]
  },
  {
   "cell_type": "code",
   "execution_count": 24,
   "id": "8b4493f6",
   "metadata": {},
   "outputs": [
    {
     "ename": "TypeError",
     "evalue": "can only concatenate str (not \"int\") to str",
     "output_type": "error",
     "traceback": [
      "\u001b[1;31m---------------------------------------------------------------------------\u001b[0m",
      "\u001b[1;31mTypeError\u001b[0m                                 Traceback (most recent call last)",
      "\u001b[1;32m~\\AppData\\Local\\Temp/ipykernel_4608/1774935878.py\u001b[0m in \u001b[0;36m<module>\u001b[1;34m\u001b[0m\n\u001b[1;32m----> 1\u001b[1;33m \u001b[1;34m'I have eaten '\u001b[0m \u001b[1;33m+\u001b[0m \u001b[1;36m99\u001b[0m \u001b[1;33m+\u001b[0m \u001b[1;34m' burritos.'\u001b[0m\u001b[1;33m\u001b[0m\u001b[1;33m\u001b[0m\u001b[0m\n\u001b[0m",
      "\u001b[1;31mTypeError\u001b[0m: can only concatenate str (not \"int\") to str"
     ]
    }
   ],
   "source": [
    "'I have eaten ' + 99 + ' burritos.'"
   ]
  },
  {
   "cell_type": "code",
   "execution_count": 25,
   "id": "60e01574",
   "metadata": {},
   "outputs": [
    {
     "data": {
      "text/plain": [
       "'Concatination is only possible with string but not with integers'"
      ]
     },
     "execution_count": 25,
     "metadata": {},
     "output_type": "execute_result"
    }
   ],
   "source": [
    "\"Concatination is only possible with string but not with integers\""
   ]
  },
  {
   "cell_type": "code",
   "execution_count": 26,
   "id": "ae54af7d",
   "metadata": {},
   "outputs": [
    {
     "data": {
      "text/plain": [
       "'I have eaten 99 burritos.'"
      ]
     },
     "execution_count": 26,
     "metadata": {},
     "output_type": "execute_result"
    }
   ],
   "source": [
    "'I have eaten ' + str(99) + ' burritos.'"
   ]
  }
 ],
 "metadata": {
  "kernelspec": {
   "display_name": "Python 3 (ipykernel)",
   "language": "python",
   "name": "python3"
  },
  "language_info": {
   "codemirror_mode": {
    "name": "ipython",
    "version": 3
   },
   "file_extension": ".py",
   "mimetype": "text/x-python",
   "name": "python",
   "nbconvert_exporter": "python",
   "pygments_lexer": "ipython3",
   "version": "3.9.7"
  }
 },
 "nbformat": 4,
 "nbformat_minor": 5
}
