{
 "cells": [
  {
   "cell_type": "markdown",
   "id": "0e715297",
   "metadata": {},
   "source": [
    "1.What are the two values of the Boolean data type? How do you write them?"
   ]
  },
  {
   "cell_type": "code",
   "execution_count": 3,
   "id": "262c878e",
   "metadata": {},
   "outputs": [
    {
     "name": "stdout",
     "output_type": "stream",
     "text": [
      "True\n",
      "False\n"
     ]
    }
   ],
   "source": [
    "\"Two vlaues aof Boolean data type is True and False\"\n",
    "print(True)\n",
    "print(False)"
   ]
  },
  {
   "cell_type": "markdown",
   "id": "1dbc26e6",
   "metadata": {},
   "source": [
    "2. What are the three different types of Boolean operators?"
   ]
  },
  {
   "cell_type": "code",
   "execution_count": 5,
   "id": "8bad5bbc",
   "metadata": {},
   "outputs": [
    {
     "data": {
      "text/plain": [
       "'AND OR Not are the three operators '"
      ]
     },
     "execution_count": 5,
     "metadata": {},
     "output_type": "execute_result"
    }
   ],
   "source": [
    "\"\"\"AND OR Not are the three operators \"\"\""
   ]
  },
  {
   "cell_type": "code",
   "execution_count": 6,
   "id": "71826866",
   "metadata": {},
   "outputs": [
    {
     "data": {
      "text/plain": [
       "False"
      ]
     },
     "execution_count": 6,
     "metadata": {},
     "output_type": "execute_result"
    }
   ],
   "source": [
    "True and False"
   ]
  },
  {
   "cell_type": "code",
   "execution_count": 7,
   "id": "6a6fb6f0",
   "metadata": {},
   "outputs": [
    {
     "data": {
      "text/plain": [
       "False"
      ]
     },
     "execution_count": 7,
     "metadata": {},
     "output_type": "execute_result"
    }
   ],
   "source": [
    "False and True"
   ]
  },
  {
   "cell_type": "code",
   "execution_count": 8,
   "id": "6893af7e",
   "metadata": {},
   "outputs": [
    {
     "data": {
      "text/plain": [
       "True"
      ]
     },
     "execution_count": 8,
     "metadata": {},
     "output_type": "execute_result"
    }
   ],
   "source": [
    "True and True"
   ]
  },
  {
   "cell_type": "code",
   "execution_count": 9,
   "id": "fc3e6374",
   "metadata": {},
   "outputs": [
    {
     "data": {
      "text/plain": [
       "False"
      ]
     },
     "execution_count": 9,
     "metadata": {},
     "output_type": "execute_result"
    }
   ],
   "source": [
    "False and False"
   ]
  },
  {
   "cell_type": "code",
   "execution_count": 10,
   "id": "36f933fc",
   "metadata": {},
   "outputs": [
    {
     "data": {
      "text/plain": [
       "True"
      ]
     },
     "execution_count": 10,
     "metadata": {},
     "output_type": "execute_result"
    }
   ],
   "source": [
    "True or False\n"
   ]
  },
  {
   "cell_type": "code",
   "execution_count": 11,
   "id": "9319ca35",
   "metadata": {},
   "outputs": [
    {
     "data": {
      "text/plain": [
       "True"
      ]
     },
     "execution_count": 11,
     "metadata": {},
     "output_type": "execute_result"
    }
   ],
   "source": [
    "False or True\n"
   ]
  },
  {
   "cell_type": "code",
   "execution_count": 12,
   "id": "c0d450c5",
   "metadata": {},
   "outputs": [
    {
     "data": {
      "text/plain": [
       "True"
      ]
     },
     "execution_count": 12,
     "metadata": {},
     "output_type": "execute_result"
    }
   ],
   "source": [
    "True or True\n"
   ]
  },
  {
   "cell_type": "code",
   "execution_count": 13,
   "id": "b1b95f48",
   "metadata": {},
   "outputs": [
    {
     "data": {
      "text/plain": [
       "False"
      ]
     },
     "execution_count": 13,
     "metadata": {},
     "output_type": "execute_result"
    }
   ],
   "source": [
    "False or False"
   ]
  },
  {
   "cell_type": "code",
   "execution_count": 17,
   "id": "98029e4d",
   "metadata": {},
   "outputs": [
    {
     "name": "stdout",
     "output_type": "stream",
     "text": [
      "False\n"
     ]
    }
   ],
   "source": [
    "print(not True)"
   ]
  },
  {
   "cell_type": "code",
   "execution_count": 19,
   "id": "084b270a",
   "metadata": {},
   "outputs": [
    {
     "data": {
      "text/plain": [
       "True"
      ]
     },
     "execution_count": 19,
     "metadata": {},
     "output_type": "execute_result"
    }
   ],
   "source": [
    "not False"
   ]
  },
  {
   "cell_type": "markdown",
   "id": "cb8978cc",
   "metadata": {},
   "source": [
    "3. Make a list of each Boolean operator's truth tables (i.e. every possible combination of Boolean values for the operator and what it evaluate )."
   ]
  },
  {
   "cell_type": "code",
   "execution_count": 29,
   "id": "d7e5bb6c",
   "metadata": {},
   "outputs": [
    {
     "name": "stdout",
     "output_type": "stream",
     "text": [
      "[True, False, False, False]\n"
     ]
    }
   ],
   "source": [
    "actual_value_and = [ True and True,True and False, False and True, False and False]\n",
    "output_and = []\n",
    "for i in actual_value:\n",
    "    output_and.append(i)\n",
    "print(output_and)"
   ]
  },
  {
   "cell_type": "code",
   "execution_count": 30,
   "id": "4e30e246",
   "metadata": {},
   "outputs": [
    {
     "name": "stdout",
     "output_type": "stream",
     "text": [
      "[True, True, True, False]\n"
     ]
    }
   ],
   "source": [
    "actual_value_or = [ True or True,True or False, False or True, False or False]\n",
    "output_or = []\n",
    "for i in actual_value_or:\n",
    "    output_or.append(i)\n",
    "print(output_or)"
   ]
  },
  {
   "cell_type": "code",
   "execution_count": 34,
   "id": "f525d4ae",
   "metadata": {},
   "outputs": [
    {
     "data": {
      "text/plain": [
       "[False, True]"
      ]
     },
     "execution_count": 34,
     "metadata": {},
     "output_type": "execute_result"
    }
   ],
   "source": [
    "actual_not = [not True, not False]\n",
    "output_not = []\n",
    "for i in actual_not:\n",
    "    output_not.append(i)\n",
    "output_not"
   ]
  },
  {
   "cell_type": "markdown",
   "id": "d68ad7f0",
   "metadata": {},
   "source": [
    "4. What are the values of the following expressions?\n",
    "(5 > 4) and (3 == 5)\n",
    "not (5 > 4)\n",
    "(5 > 4) or (3 == 5)\n",
    "not ((5 > 4) or (3 == 5))\n",
    "(True and True) and (True == False)\n",
    "(not False) or (not True)"
   ]
  },
  {
   "cell_type": "code",
   "execution_count": 36,
   "id": "3ccddec4",
   "metadata": {},
   "outputs": [
    {
     "name": "stdout",
     "output_type": "stream",
     "text": [
      "False\n",
      "False\n",
      "True\n",
      "False\n",
      "False\n",
      "True\n"
     ]
    }
   ],
   "source": [
    "print((5 > 4) and (3 == 5))\n",
    "print(not (5 > 4))\n",
    "print((5 > 4) or (3 == 5))\n",
    "print(not ((5 > 4) or (3 == 5)))\n",
    "print((True and True) and (True == False))\n",
    "print((not False) or (not True))"
   ]
  },
  {
   "cell_type": "markdown",
   "id": "14bfabed",
   "metadata": {},
   "source": [
    "5. What are the six comparison operators?"
   ]
  },
  {
   "cell_type": "code",
   "execution_count": null,
   "id": "c141631a",
   "metadata": {},
   "outputs": [],
   "source": [
    "print('==') #Equals\n",
    "print('!=') #Not Equals\n",
    "print(\">\") #Greaterthan\n",
    "print(\"<\") #Lesserthan\n",
    "print(\">=\") #Greaterthan equals\n",
    "print(\"<=\") #Lessthanequals"
   ]
  },
  {
   "cell_type": "markdown",
   "id": "7738b5c0",
   "metadata": {},
   "source": [
    "6. How do you tell the difference between the equal to and assignment operators?Describe a condition and when you would use one."
   ]
  },
  {
   "cell_type": "code",
   "execution_count": 37,
   "id": "64f28d3d",
   "metadata": {},
   "outputs": [],
   "source": [
    "\"assignment operatior \"\n",
    "a = \"Data Engineer\""
   ]
  },
  {
   "cell_type": "code",
   "execution_count": 39,
   "id": "261804c7",
   "metadata": {},
   "outputs": [],
   "source": [
    "a= 3\n",
    "if (a ==3): # Equal to operator(Comparision Operator)\n",
    "    pass"
   ]
  },
  {
   "cell_type": "markdown",
   "id": "cc471032",
   "metadata": {},
   "source": [
    "7. Identify the three blocks in this code:\n",
    "spam = 0\n",
    "if spam == 10:\n",
    "print('eggs')\n",
    "if spam > 5:\n",
    "print('bacon')\n",
    "else:\n",
    "print('ham')\n",
    "print('spam')\n",
    "print('spam')"
   ]
  },
  {
   "cell_type": "code",
   "execution_count": 41,
   "id": "cc325696",
   "metadata": {},
   "outputs": [
    {
     "name": "stdout",
     "output_type": "stream",
     "text": [
      "ham\n",
      "spam\n",
      "spam\n"
     ]
    }
   ],
   "source": [
    "spam = 0\n",
    "if spam == 10:\n",
    "    print('eggs')\n",
    "if spam > 5:\n",
    "    print('bacon')\n",
    "else:\n",
    "    print('ham')\n",
    "print('spam')\n",
    "print('spam') # If conditions are not staisfied hence it prints else block and rest of the print statements"
   ]
  },
  {
   "cell_type": "markdown",
   "id": "59e09597",
   "metadata": {},
   "source": [
    "8. Write code that prints Hello if 1 is stored in spam, prints Howdy if 2 is stored in spam, and prints Greetings! if anything else is stored in spam."
   ]
  },
  {
   "cell_type": "code",
   "execution_count": 49,
   "id": "b69227de",
   "metadata": {},
   "outputs": [
    {
     "name": "stdout",
     "output_type": "stream",
     "text": [
      "Please enter a input 8\n",
      "Greetings!!\n"
     ]
    }
   ],
   "source": [
    "spam = int(input(\"Please enter a input \"))\n",
    "if spam == 1:\n",
    "    print('Hello')\n",
    "elif spam == 2:\n",
    "    print('Howdy')\n",
    "else:\n",
    "    print('Greetings!!')"
   ]
  },
  {
   "cell_type": "markdown",
   "id": "d32d2fcc",
   "metadata": {},
   "source": [
    "9.If your programme is stuck in an endless loop, what keys you’ll press?"
   ]
  },
  {
   "cell_type": "code",
   "execution_count": 50,
   "id": "36dc9082",
   "metadata": {},
   "outputs": [
    {
     "data": {
      "text/plain": [
       "'Click on Cntrl + c in terminal or click on the stop button in Jupyter Notebook'"
      ]
     },
     "execution_count": 50,
     "metadata": {},
     "output_type": "execute_result"
    }
   ],
   "source": [
    "\"\"\"Click on Cntrl + c in terminal or click on the stop button in Jupyter Notebook\"\"\""
   ]
  },
  {
   "cell_type": "markdown",
   "id": "6080e02c",
   "metadata": {},
   "source": [
    "10. How can you tell the difference between break and continue?"
   ]
  },
  {
   "cell_type": "code",
   "execution_count": 52,
   "id": "219a46b3",
   "metadata": {},
   "outputs": [
    {
     "name": "stdout",
     "output_type": "stream",
     "text": [
      "car\n",
      "bus\n",
      "bike\n"
     ]
    }
   ],
   "source": [
    "sample_list = ['car', 'bus', 'bike', 'Apple', 'Auto' ]\n",
    "for i in sample_list:\n",
    "    if i == 'Apple':\n",
    "        break\n",
    "    print(i)# In this example when the conditon is stisfied then the the pointer is out of the loop completely"
   ]
  },
  {
   "cell_type": "code",
   "execution_count": 53,
   "id": "007df777",
   "metadata": {},
   "outputs": [
    {
     "name": "stdout",
     "output_type": "stream",
     "text": [
      "car\n",
      "bus\n",
      "bike\n",
      "Auto\n"
     ]
    }
   ],
   "source": [
    "sample_list = ['car', 'bus', 'bike', 'Apple', 'Auto' ]\n",
    "for i in sample_list:\n",
    "    if i == 'Apple':\n",
    "        continue\n",
    "    print(i)# In this example when the conditon is satisfied then the the pointer continues by excluding that specific value and continues with the rest of the loop values"
   ]
  },
  {
   "cell_type": "markdown",
   "id": "5e0f6235",
   "metadata": {},
   "source": [
    "11. In a for loop, what is the difference between range(10), range(0, 10), and range(0, 10, 1)?"
   ]
  },
  {
   "cell_type": "code",
   "execution_count": 54,
   "id": "4d3105be",
   "metadata": {},
   "outputs": [
    {
     "name": "stdout",
     "output_type": "stream",
     "text": [
      "0\n",
      "1\n",
      "2\n",
      "3\n",
      "4\n",
      "5\n",
      "6\n",
      "7\n",
      "8\n",
      "9\n"
     ]
    }
   ],
   "source": [
    "for i in range(10):\n",
    "    print(i)# values are selected from 0 to 9"
   ]
  },
  {
   "cell_type": "code",
   "execution_count": 55,
   "id": "1c9db074",
   "metadata": {},
   "outputs": [
    {
     "name": "stdout",
     "output_type": "stream",
     "text": [
      "0\n",
      "1\n",
      "2\n",
      "3\n",
      "4\n",
      "5\n",
      "6\n",
      "7\n",
      "8\n",
      "9\n"
     ]
    }
   ],
   "source": [
    "for i in range(0,10):\n",
    "    print(i)#Values selection starts from 0 to 10(excluding 10)"
   ]
  },
  {
   "cell_type": "code",
   "execution_count": 56,
   "id": "b973767a",
   "metadata": {},
   "outputs": [
    {
     "name": "stdout",
     "output_type": "stream",
     "text": [
      "0\n",
      "1\n",
      "2\n",
      "3\n",
      "4\n",
      "5\n",
      "6\n",
      "7\n",
      "8\n",
      "9\n"
     ]
    }
   ],
   "source": [
    "for i in range(0,10):\n",
    "    print(i)#Values selection starts from 0 to 10(excluding 10) with step size 1"
   ]
  },
  {
   "cell_type": "code",
   "execution_count": 57,
   "id": "b2436b86",
   "metadata": {},
   "outputs": [
    {
     "data": {
      "text/plain": [
       "' there is no difference in the following range functions all are similar range(10), range(0, 10), and range(0, 10, 1)'"
      ]
     },
     "execution_count": 57,
     "metadata": {},
     "output_type": "execute_result"
    }
   ],
   "source": [
    "\"\"\" there is no difference in the following range functions all are similar range(10), range(0, 10), and range(0, 10, 1)\"\"\""
   ]
  },
  {
   "cell_type": "markdown",
   "id": "ec1ff8f0",
   "metadata": {},
   "source": [
    "12. Write a short program that prints the numbers 1 to 10 using a for loop. Then write an equivalent program that prints the numbers 1 to 10 using a while loop."
   ]
  },
  {
   "cell_type": "code",
   "execution_count": 59,
   "id": "fc479e32",
   "metadata": {},
   "outputs": [
    {
     "name": "stdout",
     "output_type": "stream",
     "text": [
      "1\n",
      "2\n",
      "3\n",
      "4\n",
      "5\n",
      "6\n",
      "7\n",
      "8\n",
      "9\n",
      "10\n"
     ]
    }
   ],
   "source": [
    "for i in range(1,11):\n",
    "    print(i)"
   ]
  },
  {
   "cell_type": "code",
   "execution_count": 60,
   "id": "55b4e38e",
   "metadata": {},
   "outputs": [
    {
     "name": "stdout",
     "output_type": "stream",
     "text": [
      "0\n",
      "1\n",
      "2\n",
      "3\n",
      "4\n",
      "5\n",
      "6\n",
      "7\n",
      "8\n",
      "9\n",
      "10\n"
     ]
    }
   ],
   "source": [
    "b = 0\n",
    "while (b < 11):\n",
    "    print(b)\n",
    "    b = b+1"
   ]
  },
  {
   "cell_type": "markdown",
   "id": "dd70eb5b",
   "metadata": {},
   "source": [
    "13. If you had a function named bacon() inside a module named spam, how would you call it after importing spam?"
   ]
  },
  {
   "cell_type": "code",
   "execution_count": 62,
   "id": "cabeb5c2",
   "metadata": {},
   "outputs": [],
   "source": [
    "#import spam \n",
    "#spam.bacon()"
   ]
  },
  {
   "cell_type": "code",
   "execution_count": 64,
   "id": "e0e06087",
   "metadata": {},
   "outputs": [
    {
     "data": {
      "text/plain": [
       "4.898979485566356"
      ]
     },
     "execution_count": 64,
     "metadata": {},
     "output_type": "execute_result"
    }
   ],
   "source": [
    "import math\n",
    "math.sqrt(24)"
   ]
  }
 ],
 "metadata": {
  "kernelspec": {
   "display_name": "Python 3 (ipykernel)",
   "language": "python",
   "name": "python3"
  },
  "language_info": {
   "codemirror_mode": {
    "name": "ipython",
    "version": 3
   },
   "file_extension": ".py",
   "mimetype": "text/x-python",
   "name": "python",
   "nbconvert_exporter": "python",
   "pygments_lexer": "ipython3",
   "version": "3.9.7"
  }
 },
 "nbformat": 4,
 "nbformat_minor": 5
}
